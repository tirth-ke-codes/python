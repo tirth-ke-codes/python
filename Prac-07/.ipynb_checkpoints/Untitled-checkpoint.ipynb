{
 "cells": [
  {
   "cell_type": "markdown",
   "id": "3223701b",
   "metadata": {},
   "source": [
    "#Write a function that takes a list as an input and produces the corresponding cumulative "
   ]
  },
  {
   "cell_type": "code",
   "execution_count": 12,
   "id": "d66c6a83",
   "metadata": {},
   "outputs": [
    {
     "name": "stdout",
     "output_type": "stream",
     "text": [
      "Length of list : 10\n",
      "Enter num1 : 1\n",
      "Enter num2 : 2\n",
      "Enter num3 : 3\n",
      "Enter num4 : 4\n",
      "Enter num5 : 5\n",
      "Enter num6 : 6\n",
      "Enter num7 : 7\n",
      "Enter num8 : 8\n",
      "Enter num9 : 9\n",
      "Enter num10 : 10\n",
      "[1, 3, 6, 10, 15, 21, 28, 36, 45, 55]\n"
     ]
    }
   ],
   "source": [
    "def find_cumulative_list(lst):\n",
    "\n",
    "    o_lst=[lst[0]]\n",
    "\n",
    "    for i in range(1,len(lst)):\n",
    "        o_lst.append(o_lst[-1]+lst[i])\n",
    "    return o_lst\n",
    "\n",
    "l=[]\n",
    "length=int(input(\"Length of list : \"))\n",
    "for i in range(0,length):\n",
    "    l.append(int(input(\"Enter num\" + str(i+1) + \" : \")))\n",
    "print(find_cumulative_list(l))"
   ]
  }
 ],
 "metadata": {
  "kernelspec": {
   "display_name": "Python 3 (ipykernel)",
   "language": "python",
   "name": "python3"
  },
  "language_info": {
   "codemirror_mode": {
    "name": "ipython",
    "version": 3
   },
   "file_extension": ".py",
   "mimetype": "text/x-python",
   "name": "python",
   "nbconvert_exporter": "python",
   "pygments_lexer": "ipython3",
   "version": "3.8.10"
  }
 },
 "nbformat": 4,
 "nbformat_minor": 5
}
