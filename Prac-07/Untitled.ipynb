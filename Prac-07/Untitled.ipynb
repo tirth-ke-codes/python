{
 "cells": [
  {
   "cell_type": "markdown",
   "id": "0ccd9a7c",
   "metadata": {},
   "source": [
    "#Write a function that takes a list as an input and produces the corresponding cumulative "
   ]
  },
  {
   "cell_type": "code",
   "execution_count": 13,
   "id": "3f555d2e",
   "metadata": {},
   "outputs": [
    {
     "name": "stdout",
     "output_type": "stream",
     "text": [
      "Length of list : 5\n",
      "Enter num_1 : 1\n",
      "Enter num_2 : 2\n",
      "Enter num_3 : 3\n",
      "Enter num_4 : 4\n",
      "Enter num_5 : 5\n",
      "[1, 3, 6, 10, 15]\n"
     ]
    }
   ],
   "source": [
    "def find_cumulative_list(lst):\n",
    "\n",
    "    o_lst=[lst[0]]\n",
    "\n",
    "    for i in range(1,len(lst)):\n",
    "        o_lst.append(o_lst[-1]+lst[i])\n",
    "    return o_lst\n",
    "\n",
    "l=[]\n",
    "length=int(input(\"Length of list : \"))\n",
    "for i in range(0,length):\n",
    "    l.append(int(input(\"Enter num_\" + str(i+1) + \" : \")))\n",
    "print(find_cumulative_list(l))"
   ]
  }
 ],
 "metadata": {
  "kernelspec": {
   "display_name": "Python 3 (ipykernel)",
   "language": "python",
   "name": "python3"
  },
  "language_info": {
   "codemirror_mode": {
    "name": "ipython",
    "version": 3
   },
   "file_extension": ".py",
   "mimetype": "text/x-python",
   "name": "python",
   "nbconvert_exporter": "python",
   "pygments_lexer": "ipython3",
   "version": "3.8.10"
  }
 },
 "nbformat": 4,
 "nbformat_minor": 5
}
