{
 "cells": [
  {
   "cell_type": "code",
   "execution_count": 1,
   "id": "16e611dd",
   "metadata": {},
   "outputs": [
    {
     "name": "stdout",
     "output_type": "stream",
     "text": [
      "Enter first number : 5\n",
      "Enter second number : 6\n",
      "Enter third number : 7\n",
      "7 is greatest.\n"
     ]
    }
   ],
   "source": [
    "#Program to find greatest number from given three numbers\n",
    "\n",
    "a=int(input(\"Enter first number : \"))\n",
    "b=int(input(\"Enter second number : \"))\n",
    "c=int(input(\"Enter third number : \"))\n",
    "\n",
    "if a > b and a > c :\n",
    "  print(a,\"is greatest.\")\n",
    "elif b > c and b > a :\n",
    "  print(b,\"is greatest.\")\n",
    "elif c > a and c > b :\n",
    "  print(c,\"is greatest.\")"
   ]
  },
  {
   "cell_type": "code",
   "execution_count": 2,
   "id": "42f0be12",
   "metadata": {},
   "outputs": [
    {
     "name": "stdout",
     "output_type": "stream",
     "text": [
      "Enter number : 15\n",
      "15 is odd.\n"
     ]
    }
   ],
   "source": [
    "#Program to find entered number is even or odd\n",
    "\n",
    "num=int(input(\"Enter number : \"))\n",
    "\n",
    "if num % 2 == 0 :\n",
    "  print(num,\"is even.\")\n",
    "else:\n",
    "  print(num,\"is odd.\") \n"
   ]
  },
  {
   "cell_type": "code",
   "execution_count": 12,
   "id": "51ba1b5a",
   "metadata": {},
   "outputs": [
    {
     "name": "stdout",
     "output_type": "stream",
     "text": [
      "Enter year : 2008\n",
      "2008 is leap year.\n"
     ]
    }
   ],
   "source": [
    "#Program to find given year is leap or not\n",
    "year=int(input(\"Enter year : \"))\n",
    "if year % 400 == 0 or (year % 100 != 0 and year % 4 == 0):\n",
    "  print(year , \"is leap year.\")\n",
    "else:\n",
    "  print(year , \"is not leap year.\") \n"
   ]
  }
 ],
 "metadata": {
  "kernelspec": {
   "display_name": "Python 3 (ipykernel)",
   "language": "python",
   "name": "python3"
  },
  "language_info": {
   "codemirror_mode": {
    "name": "ipython",
    "version": 3
   },
   "file_extension": ".py",
   "mimetype": "text/x-python",
   "name": "python",
   "nbconvert_exporter": "python",
   "pygments_lexer": "ipython3",
   "version": "3.8.10"
  }
 },
 "nbformat": 4,
 "nbformat_minor": 5
}
