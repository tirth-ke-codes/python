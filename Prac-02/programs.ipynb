{
 "cells": [
  {
   "cell_type": "code",
   "execution_count": 1,
   "id": "79b53269",
   "metadata": {},
   "outputs": [
    {
     "name": "stdout",
     "output_type": "stream",
     "text": [
      "Enter first number : 5\n",
      "Enter second number : 6\n",
      "Enter third number : 7\n",
      "7 is greatest.\n"
     ]
    }
   ],
   "source": [
    "#Program to find greatest number from given three numbers\n",
    "\n",
    "a=int(input(\"Enter first number : \"))\n",
    "b=int(input(\"Enter second number : \"))\n",
    "c=int(input(\"Enter third number : \"))\n",
    "\n",
    "if a > b and a > c :\n",
    "  print(a,\"is greatest.\")\n",
    "elif b > c and b > a :\n",
    "  print(b,\"is greatest.\")\n",
    "elif c > a and c > b :\n",
    "  print(c,\"is greatest.\")"
   ]
  },
  {
   "cell_type": "code",
   "execution_count": 2,
   "id": "a5563d90",
   "metadata": {},
   "outputs": [
    {
     "name": "stdout",
     "output_type": "stream",
     "text": [
      "Enter number : 15\n",
      "15 is odd.\n"
     ]
    }
   ],
   "source": [
    "#Program to find entered number is even or odd\n",
    "\n",
    "num=int(input(\"Enter number : \"))\n",
    "\n",
    "if num % 2 == 0 :\n",
    "  print(num,\"is even.\")\n",
    "else:\n",
    "  print(num,\"is odd.\") \n"
   ]
  },
  {
   "cell_type": "code",
   "execution_count": 12,
   "id": "dfefc574",
   "metadata": {},
   "outputs": [
    {
     "name": "stdout",
     "output_type": "stream",
     "text": [
      "Enter year : 2008\n",
      "2008 is leap year.\n"
     ]
    }
   ],
   "source": [
    "#Program to find given year is leap or not\n",
    "year=int(input(\"Enter year : \"))\n",
    "if year % 400 == 0 or (year % 100 != 0 and year % 4 == 0):\n",
    "  print(year , \"is leap year.\")\n",
    "else:\n",
    "  print(year , \"is not leap year.\") \n"
   ]
  },
  {
   "cell_type": "code",
   "execution_count": 1,
   "id": "9d7aefd3",
   "metadata": {},
   "outputs": [
    {
     "name": "stdout",
     "output_type": "stream",
     "text": [
      "Enter range start : -2\n",
      "Enter range end : 13\n",
      "2\n",
      "3\n",
      "5\n",
      "7\n",
      "11\n",
      "13\n"
     ]
    }
   ],
   "source": [
    "start=int(input('Enter range start : '))\n",
    "end=int(input('Enter range end : '))\n",
    "for i in range(start,end+1):\n",
    "    if i > 1:\n",
    "        for j in range(2,i):\n",
    "            if i % j == 0:\n",
    "                break\n",
    "        else:\n",
    "            print(i)"
   ]
  }
 ],
 "metadata": {
  "kernelspec": {
   "display_name": "Python 3 (ipykernel)",
   "language": "python",
   "name": "python3"
  },
  "language_info": {
   "codemirror_mode": {
    "name": "ipython",
    "version": 3
   },
   "file_extension": ".py",
   "mimetype": "text/x-python",
   "name": "python",
   "nbconvert_exporter": "python",
   "pygments_lexer": "ipython3",
   "version": "3.8.10"
  }
 },
 "nbformat": 4,
 "nbformat_minor": 5
}
