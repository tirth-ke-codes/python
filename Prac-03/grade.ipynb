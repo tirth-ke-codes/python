{
 "cells": [
  {
   "cell_type": "code",
   "execution_count": 7,
   "id": "7f76bf33",
   "metadata": {},
   "outputs": [
    {
     "name": "stdout",
     "output_type": "stream",
     "text": [
      "Enter marks of subject 1 out of 100 : 90\n",
      "Enter marks of subject 2 out of 100 : 90\n",
      "Enter marks of subject 3 out of 100 : 90\n",
      "Enter marks of subject 4 out of 100 : 90\n",
      "Enter marks of subject 5 out of 100 : 90\n",
      "A grade.\n"
     ]
    }
   ],
   "source": [
    "#Write a program to take marks of 5 subjects from user and print obtained grade. \n",
    "#(>=90% - A+, 70%-90% - A, 60%-70% - B+, 50%-60% - B, 35%-50% - C, <35% - F )\n",
    "\n",
    "m=[]\n",
    "for i in range(0,5):\n",
    "    m.append(int(input(f'Enter marks of subject {i+1} out of 100 : ')))\n",
    "per=sum(m)/5\n",
    "if per >= 90 and per <= 100:\n",
    "    print('A grade.')\n",
    "elif per >= 70 and per < 90:\n",
    "    print('B grade.')\n",
    "elif per >= 60 and per < 70:\n",
    "    print('C grade.')\n",
    "elif per >= 50 and per < 60:\n",
    "    print('D grade.')\n",
    "elif per >= 35 and per < 50:\n",
    "    print('E grade.')\n",
    "elif per >= 0 and per < 35:\n",
    "    print('F grade.')\n",
    "else:\n",
    "    print('Invalid Input')"
   ]
  }
 ],
 "metadata": {
  "kernelspec": {
   "display_name": "Python 3 (ipykernel)",
   "language": "python",
   "name": "python3"
  },
  "language_info": {
   "codemirror_mode": {
    "name": "ipython",
    "version": 3
   },
   "file_extension": ".py",
   "mimetype": "text/x-python",
   "name": "python",
   "nbconvert_exporter": "python",
   "pygments_lexer": "ipython3",
   "version": "3.8.10"
  }
 },
 "nbformat": 4,
 "nbformat_minor": 5
}
