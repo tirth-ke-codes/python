{
 "cells": [
  {
   "cell_type": "markdown",
   "id": "1f1eebab",
   "metadata": {},
   "source": [
    "# #Program for dictionary and its various builtin methods"
   ]
  },
  {
   "cell_type": "code",
   "execution_count": 31,
   "id": "dd0f8ad1",
   "metadata": {},
   "outputs": [
    {
     "name": "stdout",
     "output_type": "stream",
     "text": [
      "{'a': None, 'b': 'hi', 'c': 'ok'}\n"
     ]
    }
   ],
   "source": [
    "d={\"a\":10,\"b\":\"hi\",\"c\":\"ok\"}\n",
    "d.update({'a':'11'})\n",
    "print(d)"
   ]
  },
  {
   "cell_type": "code",
   "execution_count": 3,
   "id": "af1d0d2d",
   "metadata": {},
   "outputs": [
    {
     "name": "stdout",
     "output_type": "stream",
     "text": [
      "{'a': 10, 'b': 'hi', 'c': 'ok'}\n"
     ]
    }
   ],
   "source": [
    "d={\"a\":10,\"b\":\"hi\",\"c\":\"ok\"}\n",
    "new=d.copy()\n",
    "print(new)"
   ]
  },
  {
   "cell_type": "code",
   "execution_count": 4,
   "id": "dcc2aad1",
   "metadata": {},
   "outputs": [
    {
     "name": "stdout",
     "output_type": "stream",
     "text": [
      "dict_keys(['a', 'b', 'c'])\n"
     ]
    }
   ],
   "source": [
    "d={\"a\":10,\"b\":\"hi\",\"c\":\"ok\"}\n",
    "print(d.keys())"
   ]
  },
  {
   "cell_type": "code",
   "execution_count": 5,
   "id": "ff0c287f",
   "metadata": {},
   "outputs": [
    {
     "name": "stdout",
     "output_type": "stream",
     "text": [
      "dict_values([10, 'hi', 'ok'])\n"
     ]
    }
   ],
   "source": [
    "d={\"a\":10,\"b\":\"hi\",\"c\":\"ok\"}\n",
    "print(d.values())"
   ]
  },
  {
   "cell_type": "code",
   "execution_count": 10,
   "id": "1ce095d5",
   "metadata": {},
   "outputs": [
    {
     "name": "stdout",
     "output_type": "stream",
     "text": [
      "{'b': 'hi', 'c': 'ok'}\n"
     ]
    }
   ],
   "source": [
    "d={\"a\":10,\"b\":\"hi\",\"c\":\"ok\"}\n",
    "d.pop(\"a\")\n",
    "print(d)"
   ]
  },
  {
   "cell_type": "code",
   "execution_count": 13,
   "id": "516e2ff2",
   "metadata": {},
   "outputs": [
    {
     "name": "stdout",
     "output_type": "stream",
     "text": [
      "{'a': 10}\n"
     ]
    }
   ],
   "source": [
    "d={\"a\":10,\"b\":\"hi\",\"c\":\"ok\"}\n",
    "d.popitem()\n",
    "print(d)"
   ]
  },
  {
   "cell_type": "code",
   "execution_count": 15,
   "id": "0e0363c6",
   "metadata": {},
   "outputs": [
    {
     "name": "stdout",
     "output_type": "stream",
     "text": [
      "dict_items([('a', 10), ('b', 'hi'), ('c', 'ok')])\n"
     ]
    }
   ],
   "source": [
    "d={\"a\":10,\"b\":\"hi\",\"c\":\"ok\"}\n",
    "print(d.items())"
   ]
  },
  {
   "cell_type": "code",
   "execution_count": 21,
   "id": "05f54629",
   "metadata": {},
   "outputs": [
    {
     "name": "stdout",
     "output_type": "stream",
     "text": [
      "{'a': 10, 'b': 'hi', 'c': 'ok', 'def': 'you'}\n"
     ]
    }
   ],
   "source": [
    "d={\"a\":10,\"b\":\"hi\",\"c\":\"ok\"}\n",
    "d.setdefault(\"def\",'tirth')\n",
    "d.update({\"def\":\"you\"})\n",
    "print(d)\n",
    "# https://www.geeksforgeeks.org/python-dictionary-setdefault-method/"
   ]
  },
  {
   "cell_type": "code",
   "execution_count": 32,
   "id": "3a3c68be",
   "metadata": {},
   "outputs": [
    {
     "name": "stdout",
     "output_type": "stream",
     "text": [
      "{}\n"
     ]
    }
   ],
   "source": [
    "d={\"a\":10,\"b\":\"hi\",\"c\":\"ok\"}\n",
    "d.clear()\n",
    "print(d)"
   ]
  }
 ],
 "metadata": {
  "kernelspec": {
   "display_name": "Python 3 (ipykernel)",
   "language": "python",
   "name": "python3"
  },
  "language_info": {
   "codemirror_mode": {
    "name": "ipython",
    "version": 3
   },
   "file_extension": ".py",
   "mimetype": "text/x-python",
   "name": "python",
   "nbconvert_exporter": "python",
   "pygments_lexer": "ipython3",
   "version": "3.8.10"
  }
 },
 "nbformat": 4,
 "nbformat_minor": 5
}
