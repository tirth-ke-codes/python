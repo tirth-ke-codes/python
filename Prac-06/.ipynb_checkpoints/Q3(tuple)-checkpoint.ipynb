{
 "cells": [
  {
   "cell_type": "markdown",
   "id": "4381aaff",
   "metadata": {},
   "source": [
    "# #Program for tuple and its various builtin methods"
   ]
  },
  {
   "cell_type": "code",
   "execution_count": null,
   "id": "8791ae68",
   "metadata": {},
   "outputs": [],
   "source": [
    "t=(1,3,4,8,3,26,18,3,3)\n",
    "a=t.count(3)\n",
    "b=t.index(3)\n",
    "print(a,b,sep=\" -- \")"
   ]
  },
  {
   "cell_type": "code",
   "execution_count": null,
   "id": "44b7676f",
   "metadata": {
    "scrolled": true
   },
   "outputs": [],
   "source": [
    "t=(1,3,4,8,3,26,18,3,3)\n",
    "del t\n",
    "print(t)"
   ]
  }
 ],
 "metadata": {
  "kernelspec": {
   "display_name": "Python 3 (ipykernel)",
   "language": "python",
   "name": "python3"
  },
  "language_info": {
   "codemirror_mode": {
    "name": "ipython",
    "version": 3
   },
   "file_extension": ".py",
   "mimetype": "text/x-python",
   "name": "python",
   "nbconvert_exporter": "python",
   "pygments_lexer": "ipython3",
   "version": "3.8.10"
  }
 },
 "nbformat": 4,
 "nbformat_minor": 5
}
