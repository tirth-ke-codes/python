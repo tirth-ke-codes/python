{
 "cells": [
  {
   "cell_type": "markdown",
   "id": "a638dcab",
   "metadata": {},
   "source": [
    "# #Program for lists and its various builtin methods"
   ]
  },
  {
   "cell_type": "code",
   "execution_count": null,
   "id": "f90a34db",
   "metadata": {},
   "outputs": [],
   "source": [
    "#append() add an item to the end of the list\n",
    "l1=[1,2,3,4,5]\n",
    "print(l1)\n",
    "l1.append(88)\n",
    "print(l1)"
   ]
  },
  {
   "cell_type": "code",
   "execution_count": null,
   "id": "ac9d4ba2",
   "metadata": {},
   "outputs": [],
   "source": [
    "#count() function to count occurences of an element\n",
    "l1=[1,8,4,9,4,41,4,1,0,77]\n",
    "print(l1)\n",
    "print(l1.count(4))"
   ]
  },
  {
   "cell_type": "code",
   "execution_count": null,
   "id": "e2796400",
   "metadata": {
    "scrolled": false
   },
   "outputs": [],
   "source": [
    "#index() function returns the index of given value\n",
    "l1=[1,8,4,9,4,41,4,1,0,77]\n",
    "a=l1.index(4,4)\n",
    "print(a)"
   ]
  },
  {
   "cell_type": "code",
   "execution_count": null,
   "id": "5cfc1e0d",
   "metadata": {
    "scrolled": true
   },
   "outputs": [],
   "source": [
    "#clear() function is used slear elements of a list\n",
    "l1=[1,8,4,9,4,41,4,1,0,77]\n",
    "a=l1.clear()\n",
    "print(l1)"
   ]
  },
  {
   "cell_type": "code",
   "execution_count": null,
   "id": "7e0b6621",
   "metadata": {
    "scrolled": true
   },
   "outputs": [],
   "source": [
    "#def keyword is used clear elements of a list\n",
    "l1=[1,8,4,9,4,41,4,1,0,77]\n",
    "del l1\n",
    "print(l1)"
   ]
  },
  {
   "cell_type": "code",
   "execution_count": 20,
   "id": "8400ebec",
   "metadata": {},
   "outputs": [
    {
     "name": "stdout",
     "output_type": "stream",
     "text": [
      "[1, 8, 4, 99, 0, 4, 41, 4, 1, 0, 77]\n"
     ]
    }
   ],
   "source": [
    "#insert(index,value)\n",
    "l1=[1,8,4,0,4,41,4,1,0,77]\n",
    "l1.insert(3,99)\n",
    "print(l1)"
   ]
  },
  {
   "cell_type": "code",
   "execution_count": null,
   "id": "c7525eb9",
   "metadata": {},
   "outputs": [],
   "source": [
    "#pop()\n",
    "\n",
    "l1=[1,8,4,0,4,41,4,1,0,77]\n",
    "print(l1)\n",
    "\n",
    "l1.pop()\n",
    "print(l1)\n",
    "\n",
    "l1.pop(0)\n",
    "print(l1)"
   ]
  }
 ],
 "metadata": {
  "kernelspec": {
   "display_name": "Python 3 (ipykernel)",
   "language": "python",
   "name": "python3"
  },
  "language_info": {
   "codemirror_mode": {
    "name": "ipython",
    "version": 3
   },
   "file_extension": ".py",
   "mimetype": "text/x-python",
   "name": "python",
   "nbconvert_exporter": "python",
   "pygments_lexer": "ipython3",
   "version": "3.8.10"
  }
 },
 "nbformat": 4,
 "nbformat_minor": 5
}
