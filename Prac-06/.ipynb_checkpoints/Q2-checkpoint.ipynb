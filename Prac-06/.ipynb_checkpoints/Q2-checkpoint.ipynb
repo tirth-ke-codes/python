{
 "cells": [
  {
   "cell_type": "markdown",
   "id": "06a3853f",
   "metadata": {},
   "source": [
    "# # To calculate the sum of n number of given integers."
   ]
  },
  {
   "cell_type": "code",
   "execution_count": 6,
   "id": "e70a6c69",
   "metadata": {},
   "outputs": [
    {
     "name": "stdout",
     "output_type": "stream",
     "text": [
      "How many numbers do you wish to add : 5\n",
      "Enter num1 : 1\n",
      "Enter num2 : 2\n",
      "Enter num3 : 3\n",
      "Enter num4 : 4\n",
      "Enter num5 : 5\n",
      "Sum is 15\n"
     ]
    }
   ],
   "source": [
    "l=[]\n",
    "\n",
    "n=int(input(\"How many numbers do you wish to add : \"))\n",
    "\n",
    "for i in range(0,n):\n",
    "    l.append(int(input(\"Enter num\"+str(i+1)+\" : \")))\n",
    "    \n",
    "print(\"Sum is\",sum(l))"
   ]
  }
 ],
 "metadata": {
  "kernelspec": {
   "display_name": "Python 3 (ipykernel)",
   "language": "python",
   "name": "python3"
  },
  "language_info": {
   "codemirror_mode": {
    "name": "ipython",
    "version": 3
   },
   "file_extension": ".py",
   "mimetype": "text/x-python",
   "name": "python",
   "nbconvert_exporter": "python",
   "pygments_lexer": "ipython3",
   "version": "3.8.10"
  }
 },
 "nbformat": 4,
 "nbformat_minor": 5
}
