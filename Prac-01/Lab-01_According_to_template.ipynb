{
 "cells": [
  {
   "cell_type": "code",
   "execution_count": 4,
   "id": "4be02ad5",
   "metadata": {},
   "outputs": [
    {
     "name": "stdout",
     "output_type": "stream",
     "text": [
      "num1 : 12\n",
      "num2 : 2\n",
      "Now, a=2 b=12\n"
     ]
    }
   ],
   "source": [
    "# Calculate the swapping of two numbers without using third variable.\n",
    "a=int(input('num1 : '))\n",
    "b=int(input('num2 : '))\n",
    "\n",
    "b=a+b\n",
    "a=b-a\n",
    "b=b-a\n",
    "\n",
    "print(f'Now, a={a} b={b}')"
   ]
  },
  {
   "cell_type": "code",
   "execution_count": 81,
   "id": "23425f8f",
   "metadata": {},
   "outputs": [
    {
     "name": "stdout",
     "output_type": "stream",
     "text": [
      "6\n",
      "<class 'str'>\n",
      "139771203602928\n",
      "139771203602928\n",
      "9797152\n",
      "139771054793456\n",
      "139771054792784\n"
     ]
    }
   ],
   "source": [
    "# Demonstrate the use of id() type() and len() function\n",
    "a=\"Python\"\n",
    "b=\"Python\"\n",
    "c=256\n",
    "d=1222\n",
    "e=1222\n",
    "print(len(a))\n",
    "print(type(a)) \n",
    "print(id(a))\n",
    "print(id(b))\n",
    "print(id(c))\n",
    "print(id(d))\n",
    "print(id(e))\n"
   ]
  },
  {
   "cell_type": "code",
   "execution_count": 9,
   "id": "65b0e9b5",
   "metadata": {},
   "outputs": [
    {
     "name": "stdout",
     "output_type": "stream",
     "text": [
      "Enter Number 1 : 15\n",
      "Enter Number 2 : 4\n",
      "Sum is : 19\n",
      "Difference is : 11\n",
      "Product is : 60\n",
      "Division is : 3.75\n"
     ]
    }
   ],
   "source": [
    "#perform basic oprerations in python\n",
    "\n",
    "n1=int(input(\"Enter Number 1 : \"))\n",
    "n2=int(input(\"Enter Number 2 : \"))\n",
    "\n",
    "print(\"Sum is :\", n1+n2)\n",
    "print(\"Difference is :\", n1-n2)\n",
    "print(\"Product is :\", n1*n2)\n",
    "print(\"Division is :\", n1/n2)\n"
   ]
  }
 ],
 "metadata": {
  "kernelspec": {
   "display_name": "Python 3 (ipykernel)",
   "language": "python",
   "name": "python3"
  },
  "language_info": {
   "codemirror_mode": {
    "name": "ipython",
    "version": 3
   },
   "file_extension": ".py",
   "mimetype": "text/x-python",
   "name": "python",
   "nbconvert_exporter": "python",
   "pygments_lexer": "ipython3",
   "version": "3.8.10"
  }
 },
 "nbformat": 4,
 "nbformat_minor": 5
}
