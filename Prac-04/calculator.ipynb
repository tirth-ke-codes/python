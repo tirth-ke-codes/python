{
 "cells": [
  {
   "cell_type": "code",
   "execution_count": 6,
   "id": "5f686dbc",
   "metadata": {},
   "outputs": [
    {
     "name": "stdout",
     "output_type": "stream",
     "text": [
      "Enter number 1 : 9\n",
      "Enter operator : /\n",
      "Enter number 2 : 8\n",
      "Division is  1.125\n"
     ]
    }
   ],
   "source": [
    "# Write a program to implement a simple calculator\n",
    "num1=int(input('Enter number 1 : '))\n",
    "op=input('Enter operator : ')\n",
    "num2=int(input('Enter number 2 : '))\n",
    "\n",
    "if op == '+':\n",
    "    print('Sum is ',num1+num2)\n",
    "elif op == '-':\n",
    "    print('Difference is ',num1-num2)\n",
    "elif op == '*':\n",
    "    print('Product is ',num1*num2)\n",
    "elif op == '/':\n",
    "    print('Division is ',num1/num2)\n",
    "else:\n",
    "    print('Invalid Operator')"
   ]
  }
 ],
 "metadata": {
  "kernelspec": {
   "display_name": "Python 3 (ipykernel)",
   "language": "python",
   "name": "python3"
  },
  "language_info": {
   "codemirror_mode": {
    "name": "ipython",
    "version": 3
   },
   "file_extension": ".py",
   "mimetype": "text/x-python",
   "name": "python",
   "nbconvert_exporter": "python",
   "pygments_lexer": "ipython3",
   "version": "3.8.10"
  }
 },
 "nbformat": 4,
 "nbformat_minor": 5
}
